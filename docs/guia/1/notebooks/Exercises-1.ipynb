{
 "cells": [
  {
   "cell_type": "markdown",
   "id": "0",
   "metadata": {},
   "source": [
    "# Multi-armed bandits\n",
    "Aplique el algoritmo bandit ε−greedy con \n",
    " \n",
    " - ε= 0 (greedy)\n",
    " - ε= 0.01\n",
    " - ε= 0.1 \n",
    " \n",
    "A un problema k-armed bandit con k= 10 acciones.\n",
    "\n",
    "Considere recompensas con medias aleatorias y desvío estándar constante σ.\n",
    "\n",
    "Analice experimentalmente el efecto del desvío estándar σ evaluando tres casos:\n",
    "- ε= 0 (determinístico)\n",
    "- ε= 1\n",
    "- ε= 10\n",
    "\n",
    "¿Qué conclusiones puede sacar?"
   ]
  },
  {
   "cell_type": "code",
   "execution_count": null,
   "id": "1",
   "metadata": {},
   "outputs": [],
   "source": [
    "import itertools\n",
    "\n",
    "import matplotlib.pyplot as plt\n",
    "import numpy as np\n",
    "import seaborn as sns\n",
    "from armed_bandits import EpsilonGreedyBandit\n",
    "\n",
    "sns.set_context(\"notebook\")\n",
    "plt.rcParams[\"text.usetex\"] = True"
   ]
  },
  {
   "cell_type": "code",
   "execution_count": null,
   "id": "2",
   "metadata": {},
   "outputs": [],
   "source": [
    "bandits = {}\n",
    "rewards_per_sigma = {}"
   ]
  },
  {
   "cell_type": "code",
   "execution_count": null,
   "id": "3",
   "metadata": {},
   "outputs": [],
   "source": [
    "k = 10\n",
    "reps = 20000\n",
    "sigma_list = [0, 1, 10]\n",
    "epsilon_list = [0, 0.01, 0.1]"
   ]
  },
  {
   "cell_type": "code",
   "execution_count": null,
   "id": "4",
   "metadata": {},
   "outputs": [],
   "source": [
    "for sigma, epsilon in itertools.product(*[sigma_list, epsilon_list]):\n",
    "    # np.random.seed(42)\n",
    "    bandit = EpsilonGreedyBandit(k, epsilon)\n",
    "\n",
    "    reward_mean = np.random.normal(0, sigma, k)\n",
    "    rewards = np.random.normal(reward_mean, sigma, k)\n",
    "\n",
    "    for _ in range(reps):\n",
    "        arm = bandit.select_arm()\n",
    "        reward = rewards[arm]\n",
    "        bandit.update(arm, reward)\n",
    "\n",
    "    bandits[(sigma, epsilon)] = bandit\n",
    "\n",
    "    rewards_per_sigma[sigma] = rewards"
   ]
  },
  {
   "cell_type": "code",
   "execution_count": null,
   "id": "5",
   "metadata": {},
   "outputs": [],
   "source": [
    "for key, bandit in bandits.items():\n",
    "    sigma, epsilon = key\n",
    "\n",
    "    plt.figure()\n",
    "    sns.barplot(x=range(k), y=bandit.selected_arm_counts, hue=range(k))\n",
    "    plt.xlim(-1, k)\n",
    "    plt.xlabel(\"Brazo\")\n",
    "    plt.ylabel(\"Cantidad de veces seleccionado\")\n",
    "\n",
    "    plt.legend([], [], frameon=False)\n",
    "    plt.savefig(f\"../img/arm_sigma_{sigma}_epsilon_{epsilon}.png\", transparent=True, bbox_inches=\"tight\")\n",
    "    plt.close()\n",
    "\n",
    "    plt.figure()\n",
    "    sns.violinplot(x=bandit.estimated_values, native_scale=True)\n",
    "    plt.legend([], [], frameon=False)\n",
    "    plt.xlabel(\"Recompensa\")\n",
    "    plt.savefig(f\"../img/values_sigma_{sigma}_epsilon_{epsilon}.png\", transparent=True, bbox_inches=\"tight\")\n",
    "    plt.close()"
   ]
  },
  {
   "cell_type": "code",
   "execution_count": null,
   "id": "6",
   "metadata": {},
   "outputs": [],
   "source": [
    "for sigma, rew in rewards_per_sigma.items():\n",
    "    plt.figure()\n",
    "    sns.barplot(x=range(k), y=rew, hue=range(k))\n",
    "    plt.xlabel(\"Brazo\")\n",
    "    plt.ylabel(\"Recompensa\")\n",
    "    plt.legend([], [], frameon=False)\n",
    "\n",
    "    plt.savefig(f\"../img/rewards_sigma_{sigma}.png\", transparent=True, bbox_inches=\"tight\")\n",
    "    plt.close()"
   ]
  }
 ],
 "metadata": {
  "kernelspec": {
   "display_name": "Python 3",
   "language": "python",
   "name": "python3"
  },
  "language_info": {
   "codemirror_mode": {
    "name": "ipython",
    "version": 2
   },
   "file_extension": ".py",
   "mimetype": "text/x-python",
   "name": "python",
   "nbconvert_exporter": "python",
   "pygments_lexer": "ipython2",
   "version": "2.7.6"
  }
 },
 "nbformat": 4,
 "nbformat_minor": 5
}

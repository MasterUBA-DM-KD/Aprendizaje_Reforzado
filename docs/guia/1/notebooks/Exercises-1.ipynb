{
 "cells": [
  {
   "cell_type": "markdown",
   "id": "0",
   "metadata": {},
   "source": [
    "# Multi-armed bandits\n",
    "Aplique el algoritmo bandit ε−greedy con \n",
    " \n",
    " - ε= 0 (greedy)\n",
    " - ε= 0.01\n",
    " - ε= 0.1 \n",
    " \n",
    "A un problema k-armed bandit con k= 10 acciones.\n",
    "\n",
    "Considere recompensas con medias aleatorias y desvío estándar constante σ.\n",
    "\n",
    "Analice experimentalmente el efecto del desvío estándar σ evaluando tres casos:\n",
    "- ε= 0 (determinístico)\n",
    "- ε= 1\n",
    "- ε= 10\n",
    "\n",
    "¿Qué conclusiones puede sacar?"
   ]
  },
  {
   "cell_type": "code",
   "execution_count": null,
   "id": "1",
   "metadata": {},
   "outputs": [],
   "source": [
    "import itertools\n",
    "\n",
    "import matplotlib.pyplot as plt\n",
    "import numpy as np\n",
    "import seaborn as sns\n",
    "from armed_bandits import EpsilonGreedyBandit\n",
    "\n",
    "sns.set_context(\"notebook\", font_scale=2)\n",
    "plt.rcParams[\"text.usetex\"] = True"
   ]
  },
  {
   "cell_type": "code",
   "execution_count": null,
   "id": "2",
   "metadata": {},
   "outputs": [],
   "source": [
    "bandits = {}\n",
    "rewards_per_sigma = {}\n",
    "rewards_in_time = {}"
   ]
  },
  {
   "cell_type": "code",
   "execution_count": null,
   "id": "3",
   "metadata": {},
   "outputs": [],
   "source": [
    "k = 10\n",
    "reps = 20_000\n",
    "sigma_list = [0, 1, 10]\n",
    "epsilon_list = [0, 0.01, 0.1]"
   ]
  },
  {
   "cell_type": "code",
   "execution_count": null,
   "id": "4",
   "metadata": {},
   "outputs": [],
   "source": [
    "for sigma in sigma_list:\n",
    "    np.random.seed(2 * sigma)\n",
    "    means = np.random.normal(0, 1, k)\n",
    "    rewards_per_sigma[sigma] = np.random.normal(means, sigma, k)"
   ]
  },
  {
   "cell_type": "code",
   "execution_count": null,
   "id": "5",
   "metadata": {},
   "outputs": [],
   "source": [
    "for sigma, epsilon in itertools.product(*[sigma_list, epsilon_list]):\n",
    "    np.random.seed(101)\n",
    "    rewards = rewards_per_sigma[sigma]\n",
    "\n",
    "    bandit = EpsilonGreedyBandit(k, epsilon)\n",
    "\n",
    "    for _ in range(reps):\n",
    "        arm = bandit.select_arm()\n",
    "        reward = rewards[arm]\n",
    "        bandit.update(arm, reward)\n",
    "        if rewards_in_time.get((sigma, epsilon)) is None:\n",
    "            rewards_in_time[(sigma, epsilon)] = []\n",
    "        rewards_in_time[(sigma, epsilon)].append(reward)\n",
    "\n",
    "    bandits[(sigma, epsilon)] = bandit"
   ]
  },
  {
   "cell_type": "code",
   "execution_count": null,
   "id": "6",
   "metadata": {},
   "outputs": [],
   "source": [
    "for key, bandit in bandits.items():\n",
    "    sigma, epsilon = key\n",
    "\n",
    "    plt.figure()\n",
    "    sns.barplot(x=range(k), y=bandit.selected_arm_counts, hue=range(k))\n",
    "    plt.xlim(-1, k)\n",
    "    plt.ylim(0, int(reps * 1.01))\n",
    "    plt.xlabel(\"Brazo\")\n",
    "    plt.ylabel(\"Veces seleccionado\")\n",
    "\n",
    "    plt.legend([], [], frameon=False)\n",
    "    plt.savefig(f\"../img/arm_sigma_{sigma}_epsilon_{epsilon}.png\", transparent=True, bbox_inches=\"tight\")\n",
    "    plt.close()"
   ]
  },
  {
   "cell_type": "code",
   "execution_count": null,
   "id": "7",
   "metadata": {},
   "outputs": [],
   "source": [
    "for sigma in sigma_list:\n",
    "    plt.figure()\n",
    "    for epsilon in epsilon_list:\n",
    "        sns.lineplot(\n",
    "            x=range(reps),\n",
    "            y=np.cumsum(rewards_in_time[(sigma, epsilon)]) / (np.arange(reps) + 1),\n",
    "            label=f\"$\\epsilon$ = {epsilon}\",\n",
    "        )\n",
    "\n",
    "    plt.legend(frameon=False)\n",
    "    plt.xlabel(\"Iteración\")\n",
    "    plt.ylabel(\"Recompensa\")\n",
    "    plt.xlim(0, 1000)\n",
    "    plt.savefig(f\"../img/reward_iteration_sigma_{sigma}.png\", transparent=True, bbox_inches=\"tight\")\n",
    "    plt.close()"
   ]
  },
  {
   "cell_type": "code",
   "execution_count": null,
   "id": "8",
   "metadata": {},
   "outputs": [],
   "source": [
    "for sigma in sigma_list:\n",
    "    plt.figure()\n",
    "    sns.barplot(x=range(k), y=rewards_per_sigma[sigma], hue=range(k))\n",
    "    plt.xlabel(\"Brazo\")\n",
    "    plt.ylabel(\"Recompensa\")\n",
    "    plt.legend([], [], frameon=False)\n",
    "\n",
    "    plt.savefig(f\"../img/rewards_sigma_{sigma}.png\", transparent=True, bbox_inches=\"tight\")\n",
    "    plt.close()\n",
    "\n",
    "    plt.figure(frameon=False)\n",
    "    sns.violinplot({f\"$\\epsilon$ = {epsilon}\": bandits[sigma, epsilon].estimated_values for epsilon in epsilon_list})\n",
    "    plt.ylabel(\"Q-valor\")\n",
    "    plt.savefig(f\"../img/values_sigma_{sigma}.png\", transparent=True, bbox_inches=\"tight\")\n",
    "    plt.close()"
   ]
  },
  {
   "cell_type": "code",
   "execution_count": null,
   "id": "9",
   "metadata": {},
   "outputs": [],
   "source": []
  }
 ],
 "metadata": {
  "kernelspec": {
   "display_name": "Python 3",
   "language": "python",
   "name": "python3"
  },
  "language_info": {
   "codemirror_mode": {
    "name": "ipython",
    "version": 2
   },
   "file_extension": ".py",
   "mimetype": "text/x-python",
   "name": "python",
   "nbconvert_exporter": "python",
   "pygments_lexer": "ipython2",
   "version": "2.7.6"
  }
 },
 "nbformat": 4,
 "nbformat_minor": 5
}

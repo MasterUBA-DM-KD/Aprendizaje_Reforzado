{
 "cells": [
  {
   "cell_type": "markdown",
   "id": "0",
   "metadata": {},
   "source": [
    "# Programación dinámica"
   ]
  },
  {
   "cell_type": "markdown",
   "id": "1",
   "metadata": {},
   "source": [
    "## Librerías"
   ]
  },
  {
   "cell_type": "code",
   "execution_count": null,
   "id": "2",
   "metadata": {},
   "outputs": [],
   "source": [
    "import matplotlib.pyplot as plt\n",
    "import numpy as np\n",
    "import seaborn as sns\n",
    "from utils import find_policy, gambler_problem, v_k_inplace, v_k_step\n",
    "\n",
    "sns.set_context(\"notebook\", font_scale=2)\n",
    "plt.rcParams[\"text.usetex\"] = True"
   ]
  },
  {
   "cell_type": "markdown",
   "id": "3",
   "metadata": {},
   "source": [
    "Siendo $\\gamma < 0.9$"
   ]
  },
  {
   "cell_type": "code",
   "execution_count": null,
   "id": "4",
   "metadata": {},
   "outputs": [],
   "source": [
    "gammas = {float(gamma): {} for gamma in np.linspace(0.0, 0.9, 1000)}  # Descuento"
   ]
  },
  {
   "cell_type": "code",
   "execution_count": null,
   "id": "5",
   "metadata": {},
   "outputs": [],
   "source": [
    "# Definición de recompensas y matriz de transición\n",
    "r = np.array([1, 2])  # R(s1) = 1, R(s2) = 2\n",
    "P = np.array(\n",
    "    [\n",
    "        [0, 1],  # P(s1 -> s1) = 0, P(s1 -> s2) = 1\n",
    "        [1, 0],\n",
    "    ]\n",
    ")  # P(s2 -> s1) = 1, P(s2 -> s2) = 0"
   ]
  },
  {
   "cell_type": "markdown",
   "id": "6",
   "metadata": {},
   "source": [
    "#### Step"
   ]
  },
  {
   "cell_type": "code",
   "execution_count": null,
   "id": "7",
   "metadata": {},
   "outputs": [],
   "source": [
    "for gamma in gammas:\n",
    "    gammas[gamma][\"$v_{k+1}$\"], gammas[gamma][\"iter\"] = v_k_step(P, r, gamma)"
   ]
  },
  {
   "cell_type": "code",
   "execution_count": null,
   "id": "8",
   "metadata": {},
   "outputs": [],
   "source": [
    "plt.figure()\n",
    "sns.lineplot(x=gammas.keys(), y=[gammas[gamma][\"iter\"] for gamma in gammas])\n",
    "plt.legend(frameon=False)\n",
    "plt.xlabel(\"$\\gamma$\")\n",
    "plt.ylabel(\"Iteraciones\")\n",
    "plt.savefig(\"../img/gamma_iters.png\", transparent=True, bbox_inches=\"tight\")\n",
    "plt.close()"
   ]
  },
  {
   "cell_type": "code",
   "execution_count": null,
   "id": "9",
   "metadata": {},
   "outputs": [],
   "source": [
    "plt.figure()\n",
    "sns.lineplot(x=gammas.keys(), y=[gammas[gamma][\"$v_{k+1}$\"][0] for gamma in gammas], label=\"$v_{k+1,0}$\")\n",
    "plt.plot(gammas.keys(), [gammas[gamma][\"$v_{k+1}$\"][1] for gamma in gammas], label=\"$v_{k+1,1}$\")\n",
    "plt.legend(frameon=False)\n",
    "plt.xlabel(\"$\\gamma$\")\n",
    "plt.ylabel(\"$v_{k+1}$\")\n",
    "plt.savefig(\"../img/gamma_v_k.png\", transparent=True, bbox_inches=\"tight\")\n",
    "plt.close()"
   ]
  },
  {
   "cell_type": "markdown",
   "id": "10",
   "metadata": {},
   "source": [
    "#### Inplace"
   ]
  },
  {
   "cell_type": "code",
   "execution_count": null,
   "id": "11",
   "metadata": {},
   "outputs": [],
   "source": [
    "for gamma in gammas:\n",
    "    gammas[gamma][\"$v_{k+1}$\"], gammas[gamma][\"iter\"] = v_k_inplace(r, gamma)"
   ]
  },
  {
   "cell_type": "code",
   "execution_count": null,
   "id": "12",
   "metadata": {},
   "outputs": [],
   "source": [
    "plt.figure()\n",
    "sns.lineplot(x=gammas.keys(), y=[gammas[gamma][\"iter\"] for gamma in gammas])\n",
    "plt.legend(frameon=False)\n",
    "plt.xlabel(\"$\\gamma$\")\n",
    "plt.ylabel(\"Iteraciones\")\n",
    "plt.savefig(\"../img/gamma_iters-inplace.png\", transparent=True, bbox_inches=\"tight\")\n",
    "plt.close()"
   ]
  },
  {
   "cell_type": "code",
   "execution_count": null,
   "id": "13",
   "metadata": {},
   "outputs": [],
   "source": [
    "plt.figure()\n",
    "sns.lineplot(x=gammas.keys(), y=[gammas[gamma][\"$v_{k+1}$\"][0] for gamma in gammas], label=\"$v_{k+1,0}$\")\n",
    "plt.plot(gammas.keys(), [gammas[gamma][\"$v_{k+1}$\"][1] for gamma in gammas], label=\"$v_{k+1,1}$\")\n",
    "plt.legend(frameon=False)\n",
    "plt.xlabel(\"$\\gamma$\")\n",
    "plt.ylabel(\"$v_{k+1}$\")\n",
    "plt.savefig(\"../img/gamma_v_k-inplace.png\", transparent=True, bbox_inches=\"tight\")\n",
    "plt.close()"
   ]
  },
  {
   "cell_type": "markdown",
   "id": "14",
   "metadata": {},
   "source": [
    "### Gambler's problem"
   ]
  },
  {
   "cell_type": "code",
   "execution_count": null,
   "id": "15",
   "metadata": {},
   "outputs": [],
   "source": [
    "N = 101\n",
    "phs = [0.25, 0.55]"
   ]
  },
  {
   "cell_type": "code",
   "execution_count": null,
   "id": "16",
   "metadata": {},
   "outputs": [],
   "source": [
    "for ph in phs:\n",
    "    sweep_p = []\n",
    "    policy_p = []\n",
    "    x = np.arange(1, N, 1)\n",
    "\n",
    "    V, sweeps = gambler_problem(N, ph)\n",
    "    policy = find_policy(V, ph, N)\n",
    "\n",
    "    plt.figure()\n",
    "    for arr in sweeps:\n",
    "        sweep_p.append(arr.flatten())\n",
    "    for arr in sweep_p:\n",
    "        plt.plot(arr)\n",
    "    plt.xlabel(\"Capital\")\n",
    "    plt.ylabel(\"Valor estimado\")\n",
    "    plt.savefig(f\"../img/sweeps_{ph}.png\", transparent=True, bbox_inches=\"tight\")\n",
    "    plt.close()\n",
    "\n",
    "    plt.figure()\n",
    "    for arr in policy:\n",
    "        policy_p.append(arr)\n",
    "    sns.lineplot(x=x, y=policy_p)\n",
    "    plt.xlabel(\"Capital\")\n",
    "    plt.ylabel(\"Política final (apuesta)\")\n",
    "    plt.savefig(f\"../img/policy_{ph}.png\", transparent=True, bbox_inches=\"tight\")\n",
    "    plt.close()"
   ]
  },
  {
   "cell_type": "code",
   "execution_count": null,
   "id": "17",
   "metadata": {},
   "outputs": [],
   "source": []
  }
 ],
 "metadata": {
  "kernelspec": {
   "display_name": "Python 3",
   "language": "python",
   "name": "python3"
  },
  "language_info": {
   "codemirror_mode": {
    "name": "ipython",
    "version": 2
   },
   "file_extension": ".py",
   "mimetype": "text/x-python",
   "name": "python",
   "nbconvert_exporter": "python",
   "pygments_lexer": "ipython2",
   "version": "2.7.6"
  }
 },
 "nbformat": 4,
 "nbformat_minor": 5
}

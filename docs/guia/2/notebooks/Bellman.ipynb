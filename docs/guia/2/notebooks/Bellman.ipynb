{
 "cells": [
  {
   "cell_type": "markdown",
   "id": "0",
   "metadata": {},
   "source": [
    "# MRPs"
   ]
  },
  {
   "cell_type": "markdown",
   "id": "1",
   "metadata": {},
   "source": [
    "## Librerías"
   ]
  },
  {
   "cell_type": "code",
   "execution_count": null,
   "id": "2",
   "metadata": {},
   "outputs": [],
   "source": [
    "import time\n",
    "\n",
    "import matplotlib.pyplot as plt\n",
    "import numpy as np\n",
    "import pandas as pd\n",
    "import seaborn as sns\n",
    "from utils import solve_bellman, solve_bellman_inverse\n",
    "\n",
    "sns.set_context(\"notebook\", font_scale=2)\n",
    "plt.rcParams[\"text.usetex\"] = True"
   ]
  },
  {
   "cell_type": "markdown",
   "id": "3",
   "metadata": {},
   "source": [
    "## Constantes"
   ]
  },
  {
   "cell_type": "code",
   "execution_count": null,
   "id": "4",
   "metadata": {},
   "outputs": [],
   "source": [
    "reps = 2_000\n",
    "times = {\"Solver\": [], \"Inversa\": []}"
   ]
  },
  {
   "cell_type": "markdown",
   "id": "5",
   "metadata": {},
   "source": [
    "### Matriz de transición"
   ]
  },
  {
   "cell_type": "code",
   "execution_count": null,
   "id": "6",
   "metadata": {},
   "outputs": [],
   "source": [
    "P = np.array(\n",
    "    [\n",
    "        [0.9, 0.1, 0.0, 0.0, 0.0, 0.0, 0.0],\n",
    "        [0.5, 0.0, 0.5, 0.0, 0.0, 0.0, 0.0],\n",
    "        [0.0, 0.0, 0.0, 0.8, 0.0, 0.0, 0.2],\n",
    "        [0.0, 0.0, 0.0, 0.0, 0.4, 0.6, 0.0],\n",
    "        [0.0, 0.2, 0.4, 0.4, 0.0, 0.0, 0.0],\n",
    "        [0.0, 0.0, 0.0, 0.0, 0.0, 0.0, 1.0],\n",
    "        [0.0, 0.0, 0.0, 0.0, 0.0, 0.0, 0.0],\n",
    "    ]\n",
    ")"
   ]
  },
  {
   "cell_type": "markdown",
   "id": "7",
   "metadata": {},
   "source": [
    "### Vector de recompensas"
   ]
  },
  {
   "cell_type": "code",
   "execution_count": null,
   "id": "8",
   "metadata": {},
   "outputs": [],
   "source": [
    "r = np.array([-1.0, -2.0, -2.0, -2.0, 1.0, 10.0, 0.0])"
   ]
  },
  {
   "cell_type": "markdown",
   "id": "9",
   "metadata": {},
   "source": [
    "### Gamma"
   ]
  },
  {
   "cell_type": "code",
   "execution_count": null,
   "id": "10",
   "metadata": {},
   "outputs": [],
   "source": [
    "gammas = [0.0, 0.5, 0.9]"
   ]
  },
  {
   "cell_type": "markdown",
   "id": "11",
   "metadata": {},
   "source": [
    "## Solver"
   ]
  },
  {
   "cell_type": "code",
   "execution_count": null,
   "id": "12",
   "metadata": {},
   "outputs": [],
   "source": [
    "for gamma in gammas:\n",
    "    v = solve_bellman(P, r, gamma)\n",
    "    print(f\"Gamma = {gamma} \\n {v}\")"
   ]
  },
  {
   "cell_type": "markdown",
   "id": "13",
   "metadata": {},
   "source": [
    "## Inversa"
   ]
  },
  {
   "cell_type": "code",
   "execution_count": null,
   "id": "14",
   "metadata": {},
   "outputs": [],
   "source": [
    "for gamma in gammas:\n",
    "    v = solve_bellman_inverse(P, r, gamma)\n",
    "    print(f\"Gamma = {gamma} \\n {v}\")"
   ]
  },
  {
   "cell_type": "code",
   "execution_count": null,
   "id": "15",
   "metadata": {},
   "outputs": [],
   "source": []
  },
  {
   "cell_type": "code",
   "execution_count": null,
   "id": "16",
   "metadata": {},
   "outputs": [],
   "source": [
    "for _ in range(reps):\n",
    "    start = time.time()\n",
    "    v = solve_bellman(P, r, 0)\n",
    "    end = time.time()\n",
    "    times[\"Solver\"].append((end - start) * 1000000)"
   ]
  },
  {
   "cell_type": "code",
   "execution_count": null,
   "id": "17",
   "metadata": {},
   "outputs": [],
   "source": [
    "for _ in range(reps):\n",
    "    start = time.time()\n",
    "    v = solve_bellman_inverse(P, r, 0)\n",
    "    end = time.time()\n",
    "    times[\"Inversa\"].append((end - start) * 1000000)"
   ]
  },
  {
   "cell_type": "code",
   "execution_count": null,
   "id": "18",
   "metadata": {},
   "outputs": [],
   "source": [
    "times = pd.DataFrame(times)"
   ]
  },
  {
   "cell_type": "code",
   "execution_count": null,
   "id": "19",
   "metadata": {},
   "outputs": [],
   "source": [
    "times.describe().to_latex(\n",
    "    \"../tex/other/solver_inversa_gamma.tex\",\n",
    "    float_format=\"%.3f\",\n",
    "    caption=\"Tiempo de ejecución de los métodos de solución\",\n",
    "    label=\"tab:solver_inversa_gamma\",\n",
    "    position=\"H\",\n",
    "    longtable=False,\n",
    "    column_format=\"l|r|r\",\n",
    ")"
   ]
  },
  {
   "cell_type": "code",
   "execution_count": null,
   "id": "20",
   "metadata": {},
   "outputs": [],
   "source": [
    "plt.figure()\n",
    "sns.boxplot(times)\n",
    "plt.ylabel(\"Tiempo $\\mu s$\")\n",
    "\n",
    "plt.savefig(\"../img/solver_inversa_gamma.png\", transparent=True, bbox_inches=\"tight\")\n",
    "plt.close()"
   ]
  }
 ],
 "metadata": {
  "kernelspec": {
   "display_name": "Python 3",
   "language": "python",
   "name": "python3"
  },
  "language_info": {
   "codemirror_mode": {
    "name": "ipython",
    "version": 2
   },
   "file_extension": ".py",
   "mimetype": "text/x-python",
   "name": "python",
   "nbconvert_exporter": "python",
   "pygments_lexer": "ipython2",
   "version": "2.7.6"
  }
 },
 "nbformat": 4,
 "nbformat_minor": 5
}
